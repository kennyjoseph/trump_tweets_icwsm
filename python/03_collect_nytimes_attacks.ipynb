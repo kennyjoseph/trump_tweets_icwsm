{
 "cells": [
  {
   "cell_type": "code",
   "execution_count": 1,
   "metadata": {},
   "outputs": [],
   "source": [
    "from bs4 import BeautifulSoup\n",
    "s = BeautifulSoup(open(\"../data/nyt_trump_updated/pg.htm\"))"
   ]
  },
  {
   "cell_type": "code",
   "execution_count": 2,
   "metadata": {},
   "outputs": [],
   "source": [
    "all_ments = s.findAll(attrs={\"class\": \"g-entity-item\"})"
   ]
  },
  {
   "cell_type": "code",
   "execution_count": 3,
   "metadata": {},
   "outputs": [
    {
     "name": "stdout",
     "output_type": "stream",
     "text": [
      "<div class=\"g-entity-item\"><div class=\"g-twitter-quote-container\"><div class=\"g-compliment-links-c g-twitter-quote-c\"><a class=\"is_post_election\" href=\"https://twitter.com/realDonaldTrump/status/971013841395027968\" target=\"_blank\">“Lowest rated Oscars in HISTORY”</a></div><div class=\"g-compliment-links-c g-twitter-quote-c\"><a class=\"is_post_election\" href=\"https://twitter.com/realDonaldTrump/status/971013841395027968\" target=\"_blank\">“we don't have Stars anymore”</a></div></div></div>\n",
      "<div class=\"g-entity-item\"><div class=\"g-twitter-quote-container\"><div class=\"g-compliment-links-c g-twitter-quote-c\"><a class=\"is_post_election\" href=\"https://twitter.com/realDonaldTrump/status/929503641014112256\" target=\"_blank\">“always playing politics”</a></div><div class=\"g-compliment-links-c g-twitter-quote-c\"><a class=\"is_post_election\" href=\"https://twitter.com/realDonaldTrump/status/929503641014112256\" target=\"_blank\">“bad for our country”</a></div></div></div>\n",
      "<div class=\"g-entity-item\"><div class=\"g-twitter-quote-container\"><div class=\"g-compliment-links-c g-twitter-quote-c\"><a class=\"is_post_election\" href=\"https://twitter.com/realDonaldTrump/status/847766558520856578\" target=\"_blank\">“a witch hunt”</a></div></div></div>\n",
      "<div class=\"g-entity-item\"><div class=\"g-twitter-quote-container\"><div class=\"g-compliment-links-c g-twitter-quote-c\"><a href=\"https://twitter.com/realDonaldTrump/status/646703645053087744\" target=\"_blank\">“headline”</a></div></div></div>\n",
      "<div class=\"g-entity-item\"><div class=\"g-twitter-quote-container\"><div class=\"g-compliment-links-c g-twitter-quote-c\"><a href=\"https://twitter.com/realDonaldTrump/status/647084220901380096\" target=\"_blank\">“despite the[ir] best efforts, the people are speaking loudly and clearly”</a></div></div></div>\n",
      "<div class=\"g-entity-item\"><div class=\"g-twitter-quote-container\"><div class=\"g-compliment-links-c g-twitter-quote-c\"><a href=\"https://twitter.com/realDonaldTrump/status/634576881011064832\" target=\"_blank\">“LIE”</a></div></div></div>\n",
      "<div class=\"g-entity-item\"><div class=\"g-twitter-quote-container\"><div class=\"g-compliment-links-c g-twitter-quote-c\"><a href=\"https://twitter.com/realDonaldTrump/status/633299285971501056\" target=\"_blank\">“we are all tired [of them]”</a></div></div></div>\n",
      "<div class=\"g-entity-item\"><div class=\"g-twitter-quote-container\"><div class=\"g-compliment-links-c g-twitter-quote-c\"><a href=\"https://twitter.com/realDonaldTrump/status/623657131217166337\" target=\"_blank\">“failing”</a></div></div></div>\n"
     ]
    }
   ],
   "source": [
    "rows = []\n",
    "for m in all_ments:\n",
    "    try:\n",
    "        name_v = m.find(\"div\", {\"class\" :\"g-entity-name\"}).text\n",
    "    except:\n",
    "        print(m)\n",
    "        continue\n",
    "    title = m.find(\"div\", {\"class\" :\"g-entity-title\"})\n",
    "    title_v = \"\"\n",
    "    if title:\n",
    "        title_v = title.text\n",
    "    for x in m.findAll(\"div\", {\"class\" : \"g-twitter-quote-c\"}):\n",
    "        rows.append([name_v, title_v, x.text, x.find(\"a\")['href']])\n",
    "    "
   ]
  },
  {
   "cell_type": "code",
   "execution_count": 5,
   "metadata": {},
   "outputs": [],
   "source": [
    "import pandas as pd"
   ]
  },
  {
   "cell_type": "code",
   "execution_count": 6,
   "metadata": {},
   "outputs": [],
   "source": [
    "pd.DataFrame(rows).to_csv(\"../data/nytimes_attacks_updated.csv\",index=False,encoding=\"utf8\")"
   ]
  },
  {
   "cell_type": "code",
   "execution_count": null,
   "metadata": {
    "collapsed": true
   },
   "outputs": [],
   "source": []
  }
 ],
 "metadata": {
  "kernelspec": {
   "display_name": "Python 3",
   "language": "python",
   "name": "python3"
  },
  "language_info": {
   "codemirror_mode": {
    "name": "ipython",
    "version": 3
   },
   "file_extension": ".py",
   "mimetype": "text/x-python",
   "name": "python",
   "nbconvert_exporter": "python",
   "pygments_lexer": "ipython3",
   "version": "3.6.6"
  }
 },
 "nbformat": 4,
 "nbformat_minor": 1
}
