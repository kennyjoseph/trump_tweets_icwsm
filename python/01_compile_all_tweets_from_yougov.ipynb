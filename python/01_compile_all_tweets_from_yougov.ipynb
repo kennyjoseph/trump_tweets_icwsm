{
 "cells": [
  {
   "cell_type": "code",
   "execution_count": 2,
   "metadata": {},
   "outputs": [],
   "source": [
    "import requests\n",
    "import ujson as json\n"
   ]
  },
  {
   "cell_type": "code",
   "execution_count": 5,
   "metadata": {
    "scrolled": true
   },
   "outputs": [
    {
     "name": "stdout",
     "output_type": "stream",
     "text": [
      "tweets\n",
      "1000\n",
      "tweets\n",
      "2000\n",
      "tweetsByScoreAll\n",
      "2537\n",
      "tweetsByScoreAll\n",
      "3120\n",
      "tweetsByScoreDem\n",
      "3186\n",
      "tweetsByScoreDem\n",
      "3322\n",
      "tweetsByScoreInd\n",
      "3384\n",
      "tweetsByScoreInd\n",
      "3491\n"
     ]
    }
   ],
   "source": [
    "URL_STR= 'https://9p8f5cw3u7-dsn.algolia.net/1/indexes/{index}{asc}/query?x-algolia-agent='\n",
    "URL_STR += 'Algolia%20for%20vanilla%20JavaScript%203.21.1&x-algolia-application-id=9P8F5CW3U7&'\n",
    "URL_STR += 'x-algolia-api-key=3ecdf0a9123006c6ccae27125cd090aa'\n",
    "all_tweets_dict = {}\n",
    "for index in ['tweets','tweetsByScoreAll','tweetsByScoreDem','tweetsByScoreInd']:\n",
    "    for asc in ['','_ASC']:\n",
    "        print(index)\n",
    "        for i in range(150):\n",
    "            url = URL_STR.format(index=index,asc=asc)\n",
    "            resp = requests.post(url, data=json.dumps({'params': 'query=&hitsPerPage=20&page={i}'.format(i=i)}))\n",
    "            r = resp.json()['hits']\n",
    "            for x in r:\n",
    "                all_tweets_dict[x['objectID']] = x\n",
    "        print(len(all_tweets_dict))"
   ]
  },
  {
   "cell_type": "code",
   "execution_count": 8,
   "metadata": {},
   "outputs": [],
   "source": [
    "j = json.load(open(\"../data/all_yougov_tweetdata.json\"))\n",
    "for x in j:\n",
    "    all_tweets_dict[x['objectID']] = x"
   ]
  },
  {
   "cell_type": "code",
   "execution_count": 9,
   "metadata": {},
   "outputs": [
    {
     "data": {
      "text/plain": [
       "4404"
      ]
     },
     "execution_count": 9,
     "metadata": {},
     "output_type": "execute_result"
    }
   ],
   "source": [
    "len(all_tweets_dict)"
   ]
  },
  {
   "cell_type": "code",
   "execution_count": 10,
   "metadata": {},
   "outputs": [],
   "source": [
    "json.dump(all_tweets_dict.values(), open(\"../data/all_yougov_tweetdata_updated.json\",\"w\"))"
   ]
  },
  {
   "cell_type": "code",
   "execution_count": 11,
   "metadata": {},
   "outputs": [],
   "source": [
    "with open(\"../data/all_tweet_ids_updated.txt\", \"w\") as of:\n",
    "    [of.write(str(x) + \"\\n\") for x in all_tweets_dict.keys() if str(x) != \"NA\"]"
   ]
  },
  {
   "cell_type": "code",
   "execution_count": null,
   "metadata": {
    "collapsed": true
   },
   "outputs": [],
   "source": []
  }
 ],
 "metadata": {
  "kernelspec": {
   "display_name": "Python 3",
   "language": "python",
   "name": "python3"
  },
  "language_info": {
   "codemirror_mode": {
    "name": "ipython",
    "version": 3
   },
   "file_extension": ".py",
   "mimetype": "text/x-python",
   "name": "python",
   "nbconvert_exporter": "python",
   "pygments_lexer": "ipython3",
   "version": "3.6.6"
  }
 },
 "nbformat": 4,
 "nbformat_minor": 1
}
