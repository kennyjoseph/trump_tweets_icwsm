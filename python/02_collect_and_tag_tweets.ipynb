{
 "cells": [
  {
   "cell_type": "code",
   "execution_count": 7,
   "metadata": {},
   "outputs": [
    {
     "name": "stdout",
     "output_type": "stream",
     "text": [
      "env: DM_LOC=/Users/kennyjoseph/git/twitter_tools/twitter_dm\n",
      "env: LOGIN_CREDS_LOC=/Users/kennyjoseph/git/lazerlab/twitter_login_creds/sDfZVm3ksdpg9e6W0rDykMRLd.txt\n",
      "env: IDENTITY_EXTRACTOR_LOC=/Users/kennyjoseph/git/twitter_tools/twitter_identity_extractor/\n",
      "env: DATA_DIR=/Users/kennyjoseph/git/buffalo/trump/trump_tweets/data/\n",
      "env: TWITTER_NLP_LOC=/Users/kennyjoseph/git/twitter_tools/twitter_nlp/\n"
     ]
    }
   ],
   "source": [
    "%env DM_LOC=/Users/kennyjoseph/git/twitter_tools/twitter_dm\n",
    "%env LOGIN_CREDS_LOC= ***REQUIRES PATH TO LOGIN CREDENTIALS FILE IN TWITTER_DM FORMAT *** \n",
    "%env DATA_DIR=/Users/kennyjoseph/git/buffalo/trump/trump_tweets/data/\n",
    "import os\n",
    "DM_LOC = os.environ['DM_LOC']\n",
    "LOGIN_CREDS_LOC = os.environ['LOGIN_CREDS_LOC']\n",
    "DATA_DIR = os.environ['DATA_DIR']"
   ]
  },
  {
   "cell_type": "markdown",
   "metadata": {},
   "source": [
    "# Hydrate Trump Tweets"
   ]
  },
  {
   "cell_type": "code",
   "execution_count": 8,
   "metadata": {
    "scrolled": true
   },
   "outputs": [
    {
     "name": "stdout",
     "output_type": "stream",
     "text": [
      "('Input File: ', '/Users/kennyjoseph/git/buffalo/trump/trump_tweets/data//all_tweet_ids_updated.txt')\n",
      "Getting creds from:  /Users/kennyjoseph/git/lazerlab/twitter_login_creds/sDfZVm3ksdpg9e6W0rDykMRLd.txt\n",
      "/Users/kennyjoseph/git/lazerlab/twitter_login_creds/sDfZVm3ksdpg9e6W0rDykMRLd.txt\n",
      "Loading known users...\n",
      "got consumer key and secret from config file\n",
      "(' Got', u'mondaymondaytue')\n",
      "(' Got', u'mondaytuesday88')\n",
      "(' Got', u'returnhatangle')\n",
      "(' Got', u'blademistake')\n",
      "(' Got', u'caresouthwake')\n",
      "(' Got', u'milkroddanger')\n",
      "N Auth Tokens:  6\n",
      "('Output Location: ', '/Users/kennyjoseph/git/buffalo/trump/trump_tweets/data//tweets_updated')\n",
      "N Input Tokens  4403\n",
      "['1018113905716027393', '996135379802755072', '1001455721588969472', '1042948464408055808', '925440868575797252', '832555987299082242', '944308373373308929', '829133645055135750', '986979039670931458', '1028030912095838208', '1012295859072126977', '1039111866956566528', '920751863426842625', '1012297599431401474', '1005554263601250304', '967472757025001472', '884740553040175104', '911904261553950720', '1051166436029358081', '1040290603911794689', '1040294453586665472', '979030033149972480', '829414457126313986', '997515759281680385', '923546192511946752', '894515865802223616', '880508977590697984', '1052387851088867330', '1055458320390217728', '910665452048838661', '910458657179086848', '959798743842349056', '918885859230875649', '985502053345751040', '1044326708151820289', '999986971660423170', '886259363412926464', '991380274452803586', '831169341358014475', '915179824012042241', '948737652119031808', '935636972252618753', '862135824745467905', '1007002252467458048', '989858791687671808', '954722155463430145', '951790999784783872', '910312303635116033', '880553561008078848', '1066685057648214018', '980065427375128576', '830747067379232769', '910233418474098688', '1058119417278676992', '900708110330978304', '847201455165624320', '993446539988217857', '965935035328155649', '946151080546750465', '1003960114989207552', '1047137342924959744', '1033343857675644928', '929717762422988801', '992352585863651329', '1060938144336367616', '1036689178749227008', '911175246853664768', '923866849451888640', '1053682023066288128', '965194903142719489', '918224393062551552', '1037447783593254913', '1059152270342975489', '1051559539605164034', '829384587482656768', '914661855947366406', '890642377131515904', '921207772233990144', '1070521302652469248', '1061171030801158146', '1033175432651321345', '931355543096233985', '887299895803203584', '929492038231429120', '939480342779580416', '1054486312701517824', '857604623531749376', '937297341266190336', '1028347518822825984', '1056175920476766208', '953270558573154305', '1070504263606890496', '920972261032648705', '857605018266062848', '937309279257792512', '1053124336637247493', '1007592042124513283', '942130137734242305', '880771685460344832', '995023303906652160']\n",
      "initialized mananger\n",
      "loading  45  objects onto queue\n",
      "Worker started\n",
      "Worker started\n",
      "Worker started\n",
      "Worker started\n",
      "Worker started\n",
      "Worker started\n",
      "('N GOOD: ', 99)\n",
      "('N GOOD: ', 99)\n",
      "('N GOOD: ', 99)\n",
      "('N GOOD: ', 100)\n",
      "('N GOOD: ', 100)\n",
      "('N GOOD: ', 100)\n",
      "('N GOOD: ', 100)\n",
      "('N GOOD: ', 100)\n",
      "('N GOOD: ', 99)\n",
      "('N GOOD: ', 100)\n",
      "('N GOOD: ', 99)\n",
      "('N GOOD: ', 100)\n",
      "('N GOOD: ', 99)\n",
      "('N GOOD: ', 100)\n",
      "('N GOOD: ', 100)\n",
      "('N GOOD: ', 100)\n",
      "('N GOOD: ', 100)\n",
      "('N GOOD: ', 100)\n",
      "('N GOOD: ', 100)\n",
      "('N GOOD: ', 100)\n",
      "('N GOOD: ', 99)\n",
      "('N GOOD: ', 100)\n",
      "('N GOOD: ', 100)\n",
      "('N GOOD: ', 100)\n",
      "('N GOOD: ', 100)\n",
      "('N GOOD: ', 100)\n",
      "('N GOOD: ', 100)\n",
      "('N GOOD: ', 100)\n",
      "('N GOOD: ', 100)\n",
      "('N GOOD: ', 99)\n",
      "('N GOOD: ', 100)\n",
      "('N GOOD: ', 100)\n",
      "('N GOOD: ', 99)\n",
      "('N GOOD: ', 100)\n",
      "('N GOOD: ', 100)\n",
      "('N GOOD: ', 100)\n",
      "('N GOOD: ', 100)\n",
      "('N GOOD: ', 99)\n",
      "('N GOOD: ', 100)\n",
      "('N GOOD: ', 100)\n",
      "('N GOOD: ', 100)\n",
      "('N GOOD: ', 100)\n",
      "ALL FINISHED!!!! 5\n",
      "ALL FINISHED!!!! 2\n",
      "('N GOOD: ', 3)\n",
      "ALL FINISHED!!!! 3\n",
      "('N GOOD: ', 99)\n",
      "('N GOOD: ', 99)\n",
      "ALL FINISHED!!!! 1\n",
      "ALL FINISHED!!!! 0\n",
      "ALL FINISHED!!!! 4\n"
     ]
    }
   ],
   "source": [
    "! python $DM_LOC/examples/collect_tweets.py $LOGIN_CREDS_LOC $DATA_DIR/all_tweet_ids_updated.txt $DATA_DIR/tweets_updated"
   ]
  },
  {
   "cell_type": "code",
   "execution_count": 9,
   "metadata": {
    "collapsed": true
   },
   "outputs": [],
   "source": [
    "! cat ../data/tweets_updated/*.json > ../data/trump_tweets_updated.json"
   ]
  },
  {
   "cell_type": "code",
   "execution_count": 10,
   "metadata": {
    "collapsed": true
   },
   "outputs": [],
   "source": [
    "! jq '.id_str' ../data/trump_tweets_updated.json  > ../data/all_hydrated_ids_updated.txt"
   ]
  }
 ],
 "metadata": {
  "kernelspec": {
   "display_name": "Python 3",
   "language": "python",
   "name": "python3"
  },
  "language_info": {
   "codemirror_mode": {
    "name": "ipython",
    "version": 3
   },
   "file_extension": ".py",
   "mimetype": "text/x-python",
   "name": "python",
   "nbconvert_exporter": "python",
   "pygments_lexer": "ipython3",
   "version": "3.6.6"
  }
 },
 "nbformat": 4,
 "nbformat_minor": 1
}
